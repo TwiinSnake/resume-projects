{
 "cells": [
  {
   "cell_type": "markdown",
   "id": "aab18529",
   "metadata": {},
   "source": [
    "# Homework 2"
   ]
  },
  {
   "cell_type": "markdown",
   "id": "4b3f7aed",
   "metadata": {},
   "source": [
    "## Question 1"
   ]
  },
  {
   "cell_type": "code",
   "execution_count": 1,
   "id": "26be1bd6",
   "metadata": {},
   "outputs": [],
   "source": [
    "employee_data = [\n",
    "['Willena Shupe' ,77787.85,'M','TBD','238 EAST 4TH STREET','' ,10009,'995-90-3822','1982-08-29'],\n",
    "['Jolanda Agin' ,131235.09,'S','TBD','303 EAST 4TH STREET','' ,10009,'118-64-4959','1988-04-03'],\n",
    "['Leta Stacker' ,194093.7,'S','TBD','715 EAST 5TH STREET','' ,10009,'345-57-6947','1951-04-17'],\n",
    "['Leonora Oliverio' ,210209.32,'M','TBD','274 EAST SEVENTH STREET','' ,10009,'632-40-1953','1967-11-14'],\n",
    "['Birgit Stoudt' ,198681.66,'M','TBD','241 EAST 2ND STREET','' ,10009,'497-60-1619','1960-07-23'],\n",
    "['Aron Valtierra' ,228767.42,'M','TBD','101 AVENUE D','B' ,10009,'428-06-1846','1971-07-23'],\n",
    "['Vi Buschman' ,44724.88,'S','TBD','101 AVENUE D','C' ,10009,'311-11-3801','1963-08-15'],\n",
    "['Janee Barnwell' ,86141.32,'S','TBD','211 EAST 3RD STREET','5F' ,10009,'759-79-3369','1951-11-12'],\n",
    "['Agnus Flower' ,280832.58,'M','TBD','211 EAST 3RD STREET ','6R' ,10009,'034-60-0074','1983-03-08'],\n",
    "['Byron Mccartney' ,169887.13,'S','TBD','525 EAST 11TH STREET','PH8A' ,10009,'279-59-7120','1976-04-02'],\n",
    "['Victoria Crabill' ,92154.42,'S','TBD','122 AVENUE C','' ,10009,'051-96-0241','1972-09-21'],\n",
    "['Amy Swinton' ,41928.75,'S','TBD','650 EAST 6TH STREET','' ,10009,'757-08-5403','1958-07-23'],\n",
    "['Arla Mohamed' ,189347.41,'M','TBD','650 EAST 6TH STREET','' ,10009,'177-67-0119','1961-08-25'],\n",
    "['Bryon Vester' ,92661.19,'S','TBD','137 AVENUE C','' ,10009,'806-26-4077','1969-01-31'],\n",
    "['Lue Benway' ,216939.19,'M','TBD','165 AVENUE B','' ,10009,'156-08-0769','1959-02-02'],\n",
    "['Mozelle Macauley' ,585134.36,'M','TBD','753 EAST 5TH STREET','2A' ,10009,'500-80-0880','1965-11-28'],\n",
    "['Suzann Galindo' ,74014.6,'S','TBD','753 EAST 5TH STREET','4B' ,10009,'042-28-9287','1962-03-19'],\n",
    "['Delicia Barriere' ,174949.85,'M','TBD','366 EAST 8TH STREET','2' ,10009,'414-23-2859','1964-08-17'],\n",
    "['Marcella Uyehara' ,62479.06,'S','TBD','643 EAST 11 STREET','5' ,10009,'340-03-4917','1975-01-20'],\n",
    "['Jane Curley' ,109376.38,'S','TBD','205 8 AVENUE','' ,10011,'073-49-0558','1989-09-28']\n",
    "]"
   ]
  },
  {
   "cell_type": "markdown",
   "id": "ed8bdf54",
   "metadata": {},
   "source": [
    "# Question 2"
   ]
  },
  {
   "cell_type": "code",
   "execution_count": 93,
   "id": "c885bda8",
   "metadata": {},
   "outputs": [
    {
     "name": "stdout",
     "output_type": "stream",
     "text": [
      "-----------------------------------------------------------------\n",
      "Date                Activity                      Calendar Season\n",
      "-----------------------------------------------------------------\n",
      "Jan 17, 2022        Martin Luther King Jr. Day    Winter 2021\n",
      "Mar 07, 2022        Spring Break                  Winter 2021\n",
      "Apr 28, 2022        Study Day                     Spring 2022\n",
      "May 02, 2022        Final Exam                    Spring 2022\n",
      "May 30, 2022        Memorial Day                  Spring 2022\n",
      "Jul 04, 2022        Independence Day              Summer 2022\n"
     ]
    }
   ],
   "source": [
    "def get_season(date_str: str):\n",
    "    # Implement the above algorithm here\n",
    "    # return the season\n",
    "    thedate = dateparser.parse(date_str)\n",
    "    themonth = int(datetime.strftime(thedate, \"%m\"))\n",
    "    theday = int(datetime.strftime(thedate, \"%d\"))\n",
    "    if 1 <= themonth <= 3 :\n",
    "        if (themonth % 3 == 0) & theday >= 21:\n",
    "            return \"Spring\"\n",
    "        return \"Winter\"\n",
    "    elif 4 <= themonth <= 6 :\n",
    "        if (themonth % 3 == 0) & theday >= 21:\n",
    "            return \"Summer\"\n",
    "        return \"Spring\"\n",
    "    elif 7 <= themonth <= 9 :\n",
    "        if (themonth % 3 == 0) & theday >= 21:\n",
    "            return \"Fall\"\n",
    "        return \"Summer\"\n",
    "    elif 10 <= themonth <= 12 :\n",
    "        if (themonth % 3 == 0) & theday >= 21:\n",
    "            return \"Winter\"\n",
    "        return \"Fall\"\n",
    "\n",
    "def main ():\n",
    "    # A 2D list containing dates followed by the title of the events\n",
    "    events = [\n",
    "        [\"Jan. 17, 2022\", \"Martin Luther King Jr. Day\"],\n",
    "        [\"March 7, 2022\", \"Spring Break\"],\n",
    "        [\"4/28/2022\", \"Study Day\"],\n",
    "        [\"May 2, 2022\", \"Final Exam\"],\n",
    "        [\"05 -30 -2022\", \"Memorial Day\"],\n",
    "        [\"July 4, 2022\", \"Independence Day\"]\n",
    "    ]\n",
    "    print('-'*65)\n",
    "    print(f'{\"Date\":20}{\"Activity\":30}{\"Calendar Season\"}')\n",
    "    print('-'*65)\n",
    "    for event in events :\n",
    "        thedate = dateparser.parse(event[0])\n",
    "        datethe = thedate.strftime('%b %d, %Y')\n",
    "        theyear = int(thedate.strftime('%Y'))\n",
    "        season = get_season(event[0])\n",
    "        if season == 'Winter' :\n",
    "            theyear -= 1\n",
    "            print(f'{datethe:20}{event[1]:30}{season}{\" \"}{theyear}')\n",
    "        else :\n",
    "            print(f'{datethe:20}{event[1]:30}{season}{\" \"}{theyear}')\n",
    "\n",
    "main()"
   ]
  }
 ],
 "metadata": {
  "kernelspec": {
   "display_name": "Python 3 (ipykernel)",
   "language": "python",
   "name": "python3"
  },
  "language_info": {
   "codemirror_mode": {
    "name": "ipython",
    "version": 3
   },
   "file_extension": ".py",
   "mimetype": "text/x-python",
   "name": "python",
   "nbconvert_exporter": "python",
   "pygments_lexer": "ipython3",
   "version": "3.9.7"
  }
 },
 "nbformat": 4,
 "nbformat_minor": 5
}
