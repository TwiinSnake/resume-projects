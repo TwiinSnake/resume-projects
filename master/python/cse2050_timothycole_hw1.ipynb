{
 "cells": [
  {
   "cell_type": "markdown",
   "id": "1ee9e5e6",
   "metadata": {},
   "source": [
    "# CSE 2050 Homework 1"
   ]
  },
  {
   "cell_type": "markdown",
   "id": "5347e302",
   "metadata": {},
   "source": [
    "## Question 1"
   ]
  },
  {
   "cell_type": "code",
   "execution_count": 94,
   "id": "e174fe4d",
   "metadata": {},
   "outputs": [
    {
     "name": "stdout",
     "output_type": "stream",
     "text": [
      "Employee                2021 Salary    2022 Salary     % Increase\n",
      "-----------------------------------------------------------------\n",
      "Willena Shupe              102,633         105,712           3.0%\n",
      "Jolanda Agin                82,012          86,933           6.0%\n",
      "Leta Stacker               129,860         133,756           3.0%\n",
      "Leonora Oliverio            48,949          54,823          12.0%\n",
      "Birgit Stoudt               55,208          59,625           8.0%\n",
      "Aron Valtierra              95,600         100,380           5.0%\n",
      "Vi Buschman                 40,030          43,633           9.0%\n",
      "-----------------------------------------------------------------\n",
      "Total                      554,292         584,862\n"
     ]
    }
   ],
   "source": [
    "employees = [\"Willena Shupe\", \"Jolanda Agin\", \"Leta Stacker\", \"Leonora Oliverio\", \"Birgit Stoudt\", \"Aron Valtierra\", \"Vi Buschman\"]\n",
    "salaries2021 = [\"$102,633\", \"$82,012\", \"$129,860\", \"$48,949\", \"$55,208\", \"$95,600\", \"$40,030\"]\n",
    "salaries2022 = [\"$105,711.99\", \"$86,932.72\", \"$133,755.80\", \"$54,822.88\", \"$59,624.64\", \"$100,380.00\", \"$43,632.70\"]\n",
    "print('{:24}{:15}{:16}{}'.format('Employee','2021 Salary','2022 Salary','% Increase'))\n",
    "print('-'*65)\n",
    "count = 0\n",
    "for salary in salaries2021 :\n",
    "    salary = salary.replace(\"$\", '')\n",
    "    salary = salary.replace(\",\", '')\n",
    "    salary = int(salary)\n",
    "    salaries2021[count] = salary\n",
    "    count += 1\n",
    "count = 0\n",
    "for salary in salaries2022 :\n",
    "    salary = salary.replace(\"$\", '')\n",
    "    salary = salary.replace(\",\", '')\n",
    "    salary = float(salary)\n",
    "    salary = round(salary)\n",
    "    salary = int(salary)\n",
    "    salaries2022[count] = salary\n",
    "    count += 1\n",
    "count = 0\n",
    "for employee in employees :\n",
    "    increase = ((salaries2022[count] / salaries2021[count]) * 100) - 100\n",
    "    print('{:20}{:14,}{:16,}{:14.1f}%'.format(employee, salaries2021[count], salaries2022[count], increase))\n",
    "    count += 1\n",
    "print('-'*65)\n",
    "print('{:20}{:14,}{:16,}'.format(\"Total\", sum(salaries2021), sum(salaries2022)))"
   ]
  },
  {
   "cell_type": "markdown",
   "id": "daded3f4",
   "metadata": {},
   "source": [
    "## Question 2"
   ]
  },
  {
   "cell_type": "code",
   "execution_count": 110,
   "id": "7d039b18",
   "metadata": {},
   "outputs": [
    {
     "name": "stdout",
     "output_type": "stream",
     "text": [
      "Student Name            Email Address\n",
      "Willena Shupe           wshupe2020@my.fit.edu\n",
      "Jolanda Agin            jagin2019@my.fit.edu\n",
      "Leta Stacker            lstacker2016@my.fit.edu\n",
      "Leonora Oliverio        loliverio2019@my.fit.edu\n",
      "Birgit Stoudt           bstoudt2013@my.fit.edu\n",
      "Aron Valtierra          avaltierra2014@my.fit.edu\n",
      "Vi Buschman             vbuschman2014@my.fit.edu\n",
      "Janee Barnwell          jbarnwell2018@my.fit.edu\n",
      "Agnus Flower            aflower2016@my.fit.edu\n",
      "Byron Mccartney         bmccartney2012@my.fit.edu\n",
      "Victoria Crabill        vcrabill2014@my.fit.edu\n",
      "Amy Swinton             aswinton2015@my.fit.edu\n",
      "Arla Mohamed            amohamed2018@my.fit.edu\n",
      "Bryon Vester            bvester2013@my.fit.edu\n",
      "Lue Benway              lbenway2019@my.fit.edu\n",
      "Mozelle Macauley        mmacauley2017@my.fit.edu\n",
      "Suzann Galindo          sgalindo2019@my.fit.edu\n",
      "Delicia Barriere        dbarriere2020@my.fit.edu\n",
      "Marcella Uyehara        muyehara2015@my.fit.edu\n",
      "Jane Curley             jcurley2013@my.fit.edu\n"
     ]
    }
   ],
   "source": [
    "names = [\"Willena Shupe\", \"Jolanda Agin\", \"Leta Stacker\", \"Leonora Oliverio\", \"Birgit Stoudt\", \"Aron Valtierra\", \"Vi Buschman\", \"Janee Barnwell\", \"Agnus Flower\", \"Byron Mccartney\", \"Victoria Crabill\", \"Amy Swinton\", \"Arla Mohamed\", \"Bryon Vester\", \"Lue Benway\", \"Mozelle Macauley\", \"Suzann Galindo\", \"Delicia Barriere\", \"Marcella Uyehara\", \"Jane Curley\"]\n",
    "years = [2020, 2019, 2016, 2019, 2013, 2014, 2014, 2018, 2016, 2012, 2014, 2015, 2018, 2013, 2019, 2017, 2019, 2020, 2015, 2013]\n",
    "print(f'{\"Student Name\":24}{\"Email Address\"}')\n",
    "count = 0\n",
    "for name in names :\n",
    "    splitname = name.split()\n",
    "    firstname = splitname[0]\n",
    "    lastname = splitname[1]\n",
    "    print(f'{name:24}{firstname.lower():.1}{lastname.lower()}{years[count]}{\"@my.fit.edu\"}')\n",
    "    count += 1"
   ]
  },
  {
   "cell_type": "markdown",
   "id": "17bd58ea",
   "metadata": {},
   "source": [
    "## Question 3"
   ]
  },
  {
   "cell_type": "code",
   "execution_count": 124,
   "id": "23e3fa90",
   "metadata": {},
   "outputs": [
    {
     "name": "stdout",
     "output_type": "stream",
     "text": [
      "Year        Revenue\n",
      "2021        $  365,820.00\n",
      "2020        $  274,520.00\n",
      "2019        $  260,174.00\n",
      "2018        $  265,595.00\n",
      "2017        $  229,234.00\n",
      "2016        $  215,639.00\n",
      "2015        $  233,715.00\n",
      "2014        $  182,795.00\n",
      "2013        $  170,910.00\n",
      "2012        $  156,508.00\n",
      "2011        $  108,249.00\n",
      "2010        $   65,225.00\n",
      "2009        $   42,905.00\n",
      "2008        $   37,491.00\n",
      "2007        $   24,578.00\n",
      "2006        $   19,315.00\n",
      "2005        $   13,931.00\n"
     ]
    }
   ],
   "source": [
    "apple_revenue = [365820, 274520, 260174, 265595, 229234, 215639, 233715, 182795, 170910, 156508, 108249, 65225, 42905, 37491, 24578, 19315, 13931]\n",
    "print(f'{\"Year\":12}{\"Revenue\"}')\n",
    "year = 2021\n",
    "for revenue in apple_revenue :\n",
    "    print(f'{year:<12}${revenue:12,.2f}')\n",
    "    year -= 1"
   ]
  }
 ],
 "metadata": {
  "kernelspec": {
   "display_name": "Python 3 (ipykernel)",
   "language": "python",
   "name": "python3"
  },
  "language_info": {
   "codemirror_mode": {
    "name": "ipython",
    "version": 3
   },
   "file_extension": ".py",
   "mimetype": "text/x-python",
   "name": "python",
   "nbconvert_exporter": "python",
   "pygments_lexer": "ipython3",
   "version": "3.9.7"
  }
 },
 "nbformat": 4,
 "nbformat_minor": 5
}
